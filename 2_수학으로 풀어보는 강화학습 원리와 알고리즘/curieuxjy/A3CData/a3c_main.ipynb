{
 "cells": [
  {
   "cell_type": "code",
   "execution_count": null,
   "metadata": {},
   "outputs": [],
   "source": [
    "# A3C main\n",
    "\n",
    "import gym\n",
    "from a3c_agent import A3Cagent"
   ]
  },
  {
   "cell_type": "code",
   "execution_count": null,
   "metadata": {},
   "outputs": [],
   "source": [
    "def main():\n",
    "\n",
    "    max_episode_num = 1000\n",
    "    env_name = 'Pendulum-v0'\n",
    "    env = gym.make(env_name)\n",
    "    agent = A2Cagent(env)\n",
    "\n",
    "    agent.train(max_episode_num)\n",
    "\n",
    "    agent.plot_result()\n",
    "    # tensorboard 추가해보기\n",
    "\n",
    "\n",
    "\n",
    "if __name__==\"__main__\":\n",
    "    main()"
   ]
  }
 ],
 "metadata": {
  "kernelspec": {
   "display_name": "Python 3",
   "language": "python",
   "name": "python3"
  },
  "language_info": {
   "codemirror_mode": {
    "name": "ipython",
    "version": 3
   },
   "file_extension": ".py",
   "mimetype": "text/x-python",
   "name": "python",
   "nbconvert_exporter": "python",
   "pygments_lexer": "ipython3",
   "version": "3.6.10"
  }
 },
 "nbformat": 4,
 "nbformat_minor": 4
}
